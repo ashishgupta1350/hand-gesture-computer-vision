{
 "cells": [
  {
   "cell_type": "code",
   "execution_count": 83,
   "metadata": {},
   "outputs": [],
   "source": [
    "import pandas as pd\n",
    "import numpy as np\n",
    "import tensorflow as tf\n",
    "\n",
    "import keras\n",
    "from keras.models import Sequential\n",
    "from keras.layers import Dense, MaxPool2D, Conv2D, Dropout, Flatten\n",
    "\n",
    "# import autokeras as ak\n",
    "\n",
    "\n",
    "x_train = pd.read_csv(\"images.csv\", delimiter=\",\").values / 255.0\n",
    "y_train = pd.read_csv(\"labels.csv\", delimiter=\",\").values\n",
    "\n",
    "x_train = x_train.reshape(-1, 50,40,1)\n"
   ]
  },
  {
   "cell_type": "code",
   "execution_count": 84,
   "metadata": {},
   "outputs": [],
   "source": [
    "import pandas as pd\n",
    "import numpy as np\n",
    "import tensorflow as tf\n",
    "\n",
    "import keras\n",
    "from keras.models import Sequential\n",
    "from keras.layers import Dense, MaxPool2D, Conv2D, Dropout, Flatten\n",
    "from sklearn.neighbors import KNeighborsClassifier as KNC\n",
    "from sklearn.model_selection import train_test_split as tts"
   ]
  },
  {
   "cell_type": "code",
   "execution_count": 87,
   "metadata": {},
   "outputs": [],
   "source": [
    "x_train = pd.read_csv(\"media/classifier_symbols/images.csv\", delimiter=\",\").values \n",
    "y_train = pd.read_csv(\"media/classifier_symbols/labels.csv\", delimiter=\",\").values\n",
    "x_train,x_test,y_train,y_test = tts(x_train,y_train, shuffle = True, random_state = 2)\n"
   ]
  },
  {
   "cell_type": "code",
   "execution_count": 112,
   "metadata": {},
   "outputs": [
    {
     "name": "stderr",
     "output_type": "stream",
     "text": [
      "/home/ashish/anaconda3/lib/python3.6/site-packages/ipykernel_launcher.py:2: DataConversionWarning: A column-vector y was passed when a 1d array was expected. Please change the shape of y to (n_samples, ), for example using ravel().\n",
      "  \n",
      "/home/ashish/anaconda3/lib/python3.6/site-packages/ipykernel_launcher.py:11: DataConversionWarning: A column-vector y was passed when a 1d array was expected. Please change the shape of y to (n_samples,), for example using ravel().\n",
      "  # This is added back by InteractiveShellApp.init_path()\n"
     ]
    },
    {
     "data": {
      "text/plain": [
       "0.9466666666666667"
      ]
     },
     "execution_count": 112,
     "metadata": {},
     "output_type": "execute_result"
    }
   ],
   "source": [
    "knc = KNC(n_neighbors=20)\n",
    "knc.fit(x_train,y_train)\n",
    "knc.score(x_test,y_test)\n",
    "# from sklearn.ensemble import AdaBoostClassifier as ABC\n",
    "# from sklearn.svm import SVC as ABC\n",
    "# abc = ABC()\n",
    "# abc.fit(x_train,y_train)\n",
    "# abc.score(x_test,y_test)\n",
    "from sklearn.ensemble import RandomForestClassifier  as DTC\n",
    "dtc = DTC(n_estimators = 26)\n",
    "dtc.fit(x_train,y_train)\n",
    "dtc.score(x_test,y_test)"
   ]
  },
  {
   "cell_type": "code",
   "execution_count": 36,
   "metadata": {},
   "outputs": [
    {
     "data": {
      "text/plain": [
       "(250, 2000)"
      ]
     },
     "execution_count": 36,
     "metadata": {},
     "output_type": "execute_result"
    }
   ],
   "source": [
    "x_test.shape\n",
    "# !pip install Xlib"
   ]
  },
  {
   "cell_type": "code",
   "execution_count": 115,
   "metadata": {},
   "outputs": [
    {
     "name": "stdout",
     "output_type": "stream",
     "text": [
      "open open open open open open open open open open open open open open open open open open open open open open open open open open open open open open open open open open open open open open open open open open open open open open open open open open open open open open open open open open open open open open open open open open open open open open open open open open open open open open open open open open open open open open open open open open open open open open open open open open open open open open open open open open open open open open open open open open open open open open open open open open open open open open open open open open open open open open open open open open open open open open open open open open open open open open open open open open open open open open open open open open open open open open open open open open open open "
     ]
    }
   ],
   "source": [
    "import numpy as np\n",
    "import cv2\n",
    "import pandas as pd\n",
    "import time\n",
    "import pyautogui\n",
    "\n",
    "\n",
    "def preprocess(action_frame, frame):\n",
    "    blur = cv2.GaussianBlur(action_frame, (3, 3), 0)\n",
    "    hsv = cv2.cvtColor(blur, cv2.COLOR_BGR2HSV)\n",
    "\n",
    "    ## Some more values to try\n",
    "    # lower_color = np.array([0, 23, 82])\n",
    "    # upper_color = np.array([40, 100, 255])\n",
    "    lower_color = np.array([0, 10, 60], dtype=\"uint8\")\n",
    "    upper_color = np.array([20, 150, 255], dtype=\"uint8\")\n",
    "\n",
    "    mask = cv2.inRange(hsv, lower_color, upper_color)\n",
    "    blur = cv2.medianBlur(mask, 3)\n",
    "    kernel = cv2.getStructuringElement(cv2.MORPH_ELLIPSE, (3, 3))\n",
    "    hsv_d = cv2.dilate(blur, kernel)\n",
    "    # cv2.morphologyEx(hsv_d, )\n",
    "    hsv_d = cv2.dilate(blur, kernel)\n",
    "\n",
    "    # hsv_d = cv2.morphologyEx(hsv_d, cv2.MORPH_CLOSE, kernel)\n",
    "    return hsv_d\n",
    "\n",
    "# cap = cv2.VideoCapture(\"media/cameraRoll.mp4\")\n",
    "cap = cv2.VideoCapture(0)\n",
    "\n",
    "save = False\n",
    "\n",
    "momentum = 0\n",
    "ypred_old = 0\n",
    "beta = 0.9\n",
    "\n",
    "while (True):\n",
    "    reading, image = cap.read()\n",
    "    if not reading:\n",
    "        break\n",
    "\n",
    "    # code for thresholding the hand\n",
    "    _, frame = cap.read()\n",
    "    k = cv2.waitKey(1) & 0xFF\n",
    "\n",
    "    # we need a bounding box and region of interest for the hand\n",
    "    w, h, topx, topy = (100, 100, 50, 150)\n",
    "    roi = frame[topx:topx + 2 * h, topy:topy + 2 * w].copy()\n",
    "\n",
    "    roi = preprocess(roi, frame)\n",
    "\n",
    "    cv2.imshow('ROI', roi)\n",
    "#     cv2.imshow('Image', frame)\n",
    "    if k == 27 or k == ord('q'):\n",
    "        break\n",
    "\n",
    "        \n",
    "    # Implementing idea of momentum ( A RMS Prop algorithm for smooth predictions ) \n",
    "    momentum = beta*ypred_old + (1-beta)*ypred\n",
    "       \n",
    "    roi = cv2.resize(roi, (50, 40), interpolation=1)\n",
    "    roi = roi.reshape(2000,)\n",
    "    ypred = dtc.predict(roi.reshape(-1,2000))\n",
    "    ypred_old = ypred\n",
    "#     print(ypred, end = \" \")\n",
    "    if(np.ceil(momentum)==1):\n",
    "        print(\"open\", end = \" \")\n",
    "        \n",
    "    elif np.ceil(momentum) == 2:\n",
    "        print(\"new symbol\", end = \" \")\n",
    "#         pyautogui.press('space')\n",
    "        cv2.putText(frame,\"UP\", (80,80), cv2.FONT_HERSHEY_SIMPLEX, 2, 2, 2)\n",
    "    else:\n",
    "        print(\"close\", end = \" \")\n",
    "        \n",
    "        \n",
    "    key = cv2.waitKey(1) & 0xFF\n",
    "    if key == ord('q') or key == ord('Q'):\n",
    "        break\n",
    "\n",
    "cap.release()\n",
    "cv2.destroyAllWindows()\n"
   ]
  },
  {
   "cell_type": "code",
   "execution_count": null,
   "metadata": {},
   "outputs": [],
   "source": []
  },
  {
   "cell_type": "code",
   "execution_count": 80,
   "metadata": {},
   "outputs": [
    {
     "data": {
      "text/plain": [
       "array([2000])"
      ]
     },
     "execution_count": 80,
     "metadata": {},
     "output_type": "execute_result"
    }
   ],
   "source": [
    "import cv2\n",
    "\n",
    "import matplotlib.pyplot as plt\n",
    "import numpy as np\n",
    "x_train = pd.read_csv(\"media/classifier_symbols/images.csv\", delimiter=\",\").values \n",
    "\n",
    "image = x_train[0]\n",
    "image\n"
   ]
  },
  {
   "cell_type": "code",
   "execution_count": 82,
   "metadata": {},
   "outputs": [
    {
     "data": {
      "text/plain": [
       "array([2000])"
      ]
     },
     "execution_count": 82,
     "metadata": {},
     "output_type": "execute_result"
    }
   ],
   "source": [
    "# x_train[0].reshape( 50,40,1).shape\n",
    "\n",
    "x_train[0]"
   ]
  },
  {
   "cell_type": "code",
   "execution_count": 78,
   "metadata": {},
   "outputs": [
    {
     "data": {
      "text/plain": [
       "<matplotlib.image.AxesImage at 0x7f2076ef4828>"
      ]
     },
     "execution_count": 78,
     "metadata": {},
     "output_type": "execute_result"
    },
    {
     "data": {
      "image/png": "[encoded data removed]",
      "text/plain": [
       "<Figure size 432x288 with 1 Axes>"
      ]
     },
     "metadata": {
      "needs_background": "light"
     },
     "output_type": "display_data"
    }
   ],
   "source": [
    "plt.imshow(x_train[2].reshape(50,40), cmap = \"gray\")\n"
   ]
  }
 ],
 "metadata": {
  "kernelspec": {
   "display_name": "Python 3",
   "language": "python",
   "name": "python3"
  },
  "language_info": {
   "codemirror_mode": {
    "name": "ipython",
    "version": 3
   },
   "file_extension": ".py",
   "mimetype": "text/x-python",
   "name": "python",
   "nbconvert_exporter": "python",
   "pygments_lexer": "ipython3",
   "version": "3.6.0"
  }
 },
 "nbformat": 4,
 "nbformat_minor": 2
}
